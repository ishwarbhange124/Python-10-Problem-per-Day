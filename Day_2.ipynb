{
 "cells": [
  {
   "cell_type": "code",
   "execution_count": 6,
   "id": "369d5c29-9d37-41d3-b75d-4c044aa36665",
   "metadata": {},
   "outputs": [
    {
     "name": "stdout",
     "output_type": "stream",
     "text": [
      "the second largest element in list is : 22\n"
     ]
    }
   ],
   "source": [
    "#Find the Second Largest Number in a List\n",
    "def secondlarge(lst):\n",
    "    if len(lst)<2:\n",
    "        return \"list element having at list 2 elements\"\n",
    "    lst=sorted(lst,reverse=True)\n",
    "    return lst[1]\n",
    "\n",
    "lst=[1,22,33,4,3,2]\n",
    "print(\"the second largest element in list is :\",secondlarge(lst))"
   ]
  },
  {
   "cell_type": "code",
   "execution_count": 12,
   "id": "c4ff4ac3-9563-4b84-8e79-ad3663e64871",
   "metadata": {},
   "outputs": [
    {
     "name": "stdin",
     "output_type": "stream",
     "text": [
      "enter a string: LISTEN\n",
      "enter a string: silent\n"
     ]
    },
    {
     "name": "stdout",
     "output_type": "stream",
     "text": [
      "string is anagram string\n"
     ]
    }
   ],
   "source": [
    "#2.Check If a String is an Anagram\n",
    "def anagram(str1,str2):\n",
    "    str1=str1.replace(\" \",\"\").lower()\n",
    "    str2=str2.replace(\" \",\"\").lower()\n",
    "    return sorted(str1)==sorted(str2)\n",
    "\n",
    "st1=input(\"enter a string:\")\n",
    "st2=input(\"enter a string:\")\n",
    "if anagram(st1,st2):\n",
    "    print(\"string is anagram string\")\n",
    "else:\n",
    "    print(\"not anagram\")"
   ]
  },
  {
   "cell_type": "code",
   "execution_count": 14,
   "id": "d64e4545-b411-4c34-a17d-d2b8fe50f7ef",
   "metadata": {},
   "outputs": [
    {
     "name": "stdin",
     "output_type": "stream",
     "text": [
      "eneter the name : charu\n",
      "enter the age : 25\n"
     ]
    },
    {
     "name": "stdout",
     "output_type": "stream",
     "text": [
      "Hello,charu! you are 25 years old\n"
     ]
    }
   ],
   "source": [
    "#3.Write a program that accepts a user's name and age, then prints a message like \"Hello, [name]! You are [age] years old.\"\n",
    "name=input(\"eneter the name :\")\n",
    "age=int(input(\"enter the age :\"))\n",
    "print(f\"Hello,{name}! you are {age} years old\")"
   ]
  },
  {
   "cell_type": "code",
   "execution_count": 1,
   "id": "ba81e777-9b40-4f0c-89ed-b8bf272c758e",
   "metadata": {},
   "outputs": [
    {
     "name": "stdout",
     "output_type": "stream",
     "text": [
      "sum of the (5, 10, 15, 20) is 50\n"
     ]
    }
   ],
   "source": [
    "#4. Given a tuple of numbers (5, 10, 15, 20), write a program to compute the sum of its elements.\n",
    "tpl=(5,10,15,20)\n",
    "total=sum(tpl)\n",
    "print(f\"sum of the {tpl} is {total}\")"
   ]
  },
  {
   "cell_type": "code",
   "execution_count": 8,
   "id": "90e05405-0fe9-4289-b2aa-c8612aec6e95",
   "metadata": {},
   "outputs": [
    {
     "name": "stdout",
     "output_type": "stream",
     "text": [
      "the name of student ishwar and the grade is 1st class\n"
     ]
    }
   ],
   "source": [
    "#5.Define a Student class with attributes name and grade. Create an object and display its details.\n",
    "class Student:\n",
    "    def __init__(self,name,grade):\n",
    "        self.name=name\n",
    "        self.grade=grade\n",
    "    def display(self):\n",
    "        print(f\"the name of student {self.name} and the grade is {self.grade}\")\n",
    "obj1=Student(\"ishwar\",\"1st class\")\n",
    "obj1.display()"
   ]
  },
  {
   "cell_type": "code",
   "execution_count": 9,
   "id": "3be6033b-59cf-4b7c-aaa3-4b028fabd084",
   "metadata": {},
   "outputs": [
    {
     "name": "stdout",
     "output_type": "stream",
     "text": [
      "multiplication table of 1 \n",
      "1*1=1\n",
      "1*2=2\n",
      "1*3=3\n",
      "1*4=4\n",
      "1*5=5\n",
      "1*6=6\n",
      "1*7=7\n",
      "1*8=8\n",
      "1*9=9\n",
      "1*10=10\n",
      "multiplication table of 2 \n",
      "2*1=2\n",
      "2*2=4\n",
      "2*3=6\n",
      "2*4=8\n",
      "2*5=10\n",
      "2*6=12\n",
      "2*7=14\n",
      "2*8=16\n",
      "2*9=18\n",
      "2*10=20\n",
      "multiplication table of 3 \n",
      "3*1=3\n",
      "3*2=6\n",
      "3*3=9\n",
      "3*4=12\n",
      "3*5=15\n",
      "3*6=18\n",
      "3*7=21\n",
      "3*8=24\n",
      "3*9=27\n",
      "3*10=30\n",
      "multiplication table of 4 \n",
      "4*1=4\n",
      "4*2=8\n",
      "4*3=12\n",
      "4*4=16\n",
      "4*5=20\n",
      "4*6=24\n",
      "4*7=28\n",
      "4*8=32\n",
      "4*9=36\n",
      "4*10=40\n",
      "multiplication table of 5 \n",
      "5*1=5\n",
      "5*2=10\n",
      "5*3=15\n",
      "5*4=20\n",
      "5*5=25\n",
      "5*6=30\n",
      "5*7=35\n",
      "5*8=40\n",
      "5*9=45\n",
      "5*10=50\n"
     ]
    }
   ],
   "source": [
    "#6.Create a program to print the multiplication table for numbers 1 through 5\n",
    "for i in range(1,6):\n",
    "    print(f\"multiplication table of {i} \")\n",
    "    for j in range(1,11):\n",
    "        print(f\"{i}*{j}={i*j}\")\n",
    "        "
   ]
  },
  {
   "cell_type": "code",
   "execution_count": 15,
   "id": "c8a36117-4ec3-466b-97b0-436c2349c89e",
   "metadata": {},
   "outputs": [
    {
     "name": "stdin",
     "output_type": "stream",
     "text": [
      "enter a number : 109\n",
      "enter a number : 10\n"
     ]
    },
    {
     "name": "stdout",
     "output_type": "stream",
     "text": [
      "the dicvision is 10.9\n"
     ]
    }
   ],
   "source": [
    "#7.Write a program that divides two numbers provided by the user. Handle the case where the divisor is zero by showing an error message.\n",
    "try:\n",
    "    numerator=float(input(\"enter a number :\"))\n",
    "    denomiter=float(input(\"enter a number :\"))\n",
    "    if denomiter==0:\n",
    "        print(\"Error:Division by zero not allowed\")\n",
    "    else:\n",
    "        print(f\"the dicvision is {numerator/denomiter}\")\n",
    "\n",
    "except ValueError:\n",
    "    print(\"Error:please enter valid numeric values\")"
   ]
  },
  {
   "cell_type": "code",
   "execution_count": 20,
   "id": "e348888d-4c55-49d3-ae5d-b3171122d74e",
   "metadata": {},
   "outputs": [
    {
     "name": "stdout",
     "output_type": "stream",
     "text": [
      "Grapes cost 55\n",
      "Orange cost 54\n"
     ]
    }
   ],
   "source": [
    "#8.Create a dictionary with keys as fruits and values as their prices. Write a program to display all the fruits priced above 50.\n",
    "dict={\"apple\":10,\"banana\":20,\"grapes\":55,\"orange\":54}\n",
    "for fruit,price in dict.items():\n",
    "    if price>50:\n",
    "        print(f\"{fruit.title()} cost {price}\")"
   ]
  },
  {
   "cell_type": "code",
   "execution_count": 28,
   "id": "0849665b-e984-41aa-a261-75adead7a54a",
   "metadata": {},
   "outputs": [
    {
     "name": "stdin",
     "output_type": "stream",
     "text": [
      "enter a number: 5\n"
     ]
    },
    {
     "name": "stdout",
     "output_type": "stream",
     "text": [
      "the fcatorial of a 5 is 120\n"
     ]
    }
   ],
   "source": [
    "#9. Create a function that takes a number as input and returns its factorial.\n",
    "def fact(num):\n",
    "    if num==1 or num==0:\n",
    "        return 1\n",
    "    else:\n",
    "        return num * fact(num-1)\n",
    "\n",
    "num1=int(input(\"enter a number:\"))\n",
    "print(f\"the fcatorial of a {num1} is {fact(num1)}\")"
   ]
  },
  {
   "cell_type": "code",
   "execution_count": null,
   "id": "a67d0c1e-feed-4c05-b4db-72c5ad64f371",
   "metadata": {},
   "outputs": [],
   "source": [
    "#10. Write a program to count the number of vowels in a given string.\n",
    "def count_vowels(str1):\n",
    "    vowels=\"aeiouAEIOU\"\n",
    "    count=0\n",
    "    for char in str1:\n",
    "        if char in vowels:\n",
    "            count+=1\n",
    "    return count\n",
    "\n",
    "string=input(\"enter a string:\")\n",
    "print(f\"the count of vowels is {count_vowels(string)}\")"
   ]
  }
 ],
 "metadata": {
  "kernelspec": {
   "display_name": "Python 3 (ipykernel)",
   "language": "python",
   "name": "python3"
  },
  "language_info": {
   "codemirror_mode": {
    "name": "ipython",
    "version": 3
   },
   "file_extension": ".py",
   "mimetype": "text/x-python",
   "name": "python",
   "nbconvert_exporter": "python",
   "pygments_lexer": "ipython3",
   "version": "3.13.0"
  }
 },
 "nbformat": 4,
 "nbformat_minor": 5
}
