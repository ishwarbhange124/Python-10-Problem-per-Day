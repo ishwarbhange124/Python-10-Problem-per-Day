{
 "cells": [
  {
   "cell_type": "code",
   "execution_count": 4,
   "id": "12ee33ba-4af8-45ce-9ac4-b23a7b4d017d",
   "metadata": {},
   "outputs": [
    {
     "name": "stdin",
     "output_type": "stream",
     "text": [
      "eneter a string : charu\n"
     ]
    },
    {
     "name": "stdout",
     "output_type": "stream",
     "text": [
      "the reverse string is : urahc\n"
     ]
    }
   ],
   "source": [
    "#1.Reverse a String: Write a function to reverse a string\n",
    "def reverse(str1):\n",
    "    return str1[::-1]\n",
    "\n",
    "string=input(\"eneter a string :\")\n",
    "print(\"the reverse string is :\",reverse(string))"
   ]
  },
  {
   "cell_type": "code",
   "execution_count": 6,
   "id": "beba6535-d4a7-4b03-9005-f62ac3d4ef75",
   "metadata": {},
   "outputs": [
    {
     "name": "stdout",
     "output_type": "stream",
     "text": [
      "the maximum number in a list is : 9\n"
     ]
    }
   ],
   "source": [
    "#2.Find the Maximum Number in a List: Given a list of numbers, find the maximum value\n",
    "lst1=[1,2,3,4,5,6,7,8,9]\n",
    "a=max(lst1)\n",
    "print(\"the maximum number in a list is :\",a)\n",
    "\n",
    "      "
   ]
  },
  {
   "cell_type": "code",
   "execution_count": 29,
   "id": "e407e2d2-1bfe-49eb-ab36-e9b605b67588",
   "metadata": {},
   "outputs": [
    {
     "name": "stdin",
     "output_type": "stream",
     "text": [
      "enter a string charubb\n"
     ]
    },
    {
     "name": "stdout",
     "output_type": "stream",
     "text": [
      "the count of occurance of each character is  {'c': 1, 'h': 1, 'a': 1, 'r': 1, 'u': 1, 'b': 2}\n"
     ]
    }
   ],
   "source": [
    "#3.Count the Occurrence of Each Character in a String: Given a string, count how many times each character appears.\n",
    "def char_count(s):\n",
    "    char_dict={}\n",
    "    for i in s:\n",
    "        if i in char_dict:\n",
    "            char_dict[i]+=1\n",
    "        else:\n",
    "            char_dict[i]=1\n",
    "    return char_dict\n",
    "\n",
    "string=input(\"enter a string\")\n",
    "result=char_count(string)\n",
    "print(\"the count of occurance of each character is \",result)"
   ]
  },
  {
   "cell_type": "code",
   "execution_count": 32,
   "id": "2ebdaf57-d5fb-43df-bff2-b6665d5eafac",
   "metadata": {},
   "outputs": [
    {
     "name": "stdin",
     "output_type": "stream",
     "text": [
      "enter a string : nayan\n"
     ]
    },
    {
     "name": "stdout",
     "output_type": "stream",
     "text": [
      "palidrome string\n"
     ]
    }
   ],
   "source": [
    "#4.write a function to check a string is palindrome\n",
    "def palindrome(s):\n",
    "    return s==s[::-1]\n",
    "\n",
    "string1=input(\"enter a string :\")\n",
    "if palindrome(string1):\n",
    "    print(\"palidrome string\")\n",
    "else:\n",
    "    print(\"not palindrome\")"
   ]
  },
  {
   "cell_type": "code",
   "execution_count": 48,
   "id": "e9305133-4a92-43e0-a82f-7cb9c41cec93",
   "metadata": {},
   "outputs": [
    {
     "name": "stdin",
     "output_type": "stream",
     "text": [
      "enter the start index : 1\n",
      "enter the end index : 10\n"
     ]
    },
    {
     "name": "stdout",
     "output_type": "stream",
     "text": [
      "the prime numbers from 1 to 10 are ,[2, 3, 5, 7]\n"
     ]
    }
   ],
   "source": [
    "#5.Find Prime Numbers in a Range: Write a function to return all prime numbers between 1 and N.\n",
    "def find_prime(start,end):\n",
    "    primes=[]\n",
    "    for num in range(start,end+1):\n",
    "        if num>1:\n",
    "            for i in range(2,num):\n",
    "                if num%i==0:\n",
    "                    break\n",
    "            else:\n",
    "                primes.append(num)\n",
    "    return primes\n",
    "                    \n",
    "            \n",
    "\n",
    "start=int(input(\"enter the start index :\"))\n",
    "end=int(input(\"enter the end index :\"))\n",
    "print(f\"the prime numbers from {start} to {end} are ,{find_prime(start,end)}\")"
   ]
  },
  {
   "cell_type": "code",
   "execution_count": 58,
   "id": "d3dc849c-71fa-417f-891e-ba36faa37c7c",
   "metadata": {},
   "outputs": [
    {
     "name": "stdin",
     "output_type": "stream",
     "text": [
      "enetr a number 111\n"
     ]
    },
    {
     "name": "stdout",
     "output_type": "stream",
     "text": [
      "the sum of digit is  3\n"
     ]
    }
   ],
   "source": [
    "#6.Sum of Digits in a Number: Given an integer, return the sum of its digits.\n",
    "def sum_of_digit(n):\n",
    "    sum = 0\n",
    "    while n>0: #true\n",
    "        sum+=n%10    #0=0+111%10  == 1\n",
    "        n=n//10      # 11\n",
    "    return sum\n",
    "\n",
    "a = int(input(\"enetr a number\"))   #111\n",
    "result=sum_of_digit(a)\n",
    "print(\"the sum of digit is \", result)"
   ]
  },
  {
   "cell_type": "code",
   "execution_count": 68,
   "id": "e590b62e-853c-43fd-8f6a-51470640a8d8",
   "metadata": {},
   "outputs": [
    {
     "name": "stdin",
     "output_type": "stream",
     "text": [
      "enter the number 12\n"
     ]
    },
    {
     "name": "stdout",
     "output_type": "stream",
     "text": [
      "the fibonacii of the number is 144\n"
     ]
    }
   ],
   "source": [
    "#7.Fibonacci Sequence: Write a function to return the nth Fibonacci number\n",
    "def fibonacii(n):\n",
    "    if n<=1:\n",
    "        return n\n",
    "    else:\n",
    "        return fibonacii(n-1)+ fibonacii(n-2)\n",
    "\n",
    "num=int(input(\"enter the number\"))\n",
    "result=fibonacii(num)\n",
    "print(\"the fibonacii of the number is\",result)"
   ]
  },
  {
   "cell_type": "code",
   "execution_count": 72,
   "id": "dffef4e2-d0c0-43f9-9092-f64595e7cad3",
   "metadata": {},
   "outputs": [
    {
     "name": "stdin",
     "output_type": "stream",
     "text": [
      "enter a string  Silent\n",
      "enter a string  LISTEN\n"
     ]
    },
    {
     "name": "stdout",
     "output_type": "stream",
     "text": [
      "anagram string\n"
     ]
    }
   ],
   "source": [
    "#8.Anagram Check: Write a function to check if two strings are anagrams of each other.\n",
    "def anagram(s1,s2):\n",
    "    s1=s1.replace(\" \",\"\").lower()\n",
    "    s2=s2.replace(\" \",\"\").lower()\n",
    "    return sorted(s1)==sorted(s2)\n",
    "\n",
    "str1=input(\"enter a string \")\n",
    "str2=input(\"enter a string \")\n",
    "\n",
    "if anagram(str1,str2):\n",
    "    print(\"anagram string\")\n",
    "else:\n",
    "    print(\"not anagram string\")"
   ]
  },
  {
   "cell_type": "code",
   "execution_count": 74,
   "id": "1b88c44f-cb5c-4a5c-ac76-711ad64ccd14",
   "metadata": {},
   "outputs": [
    {
     "name": "stdin",
     "output_type": "stream",
     "text": [
      "enetr the element seperated by space : 1 2 3 4 5\n",
      "enetr the element seperated by space : 1 2 3 4 5\n"
     ]
    },
    {
     "name": "stdout",
     "output_type": "stream",
     "text": [
      "the sorted listt is  [1, 1, 2, 2, 3, 3, 4, 4, 5, 5]\n"
     ]
    }
   ],
   "source": [
    "#9.Merge Two Sorted Lists: Given two sorted lists, merge them into a single sorted list.\n",
    "def lst(l1,l2):\n",
    "    l3=l1+l2\n",
    "    l3.sort()\n",
    "    return l3\n",
    "\n",
    "lst1=list(map(int , input(\"enetr the element seperated by space :\").split()))\n",
    "lst2=list(map(int , input(\"enetr the element seperated by space :\").split()))\n",
    "print(\"the sorted listt is \",lst(lst1,lst2))\n"
   ]
  },
  {
   "cell_type": "code",
   "execution_count": 80,
   "id": "4cf7eee3-746a-498e-b0c2-57cf42157512",
   "metadata": {},
   "outputs": [
    {
     "ename": "SyntaxError",
     "evalue": "invalid syntax (3389333831.py, line 3)",
     "output_type": "error",
     "traceback": [
      "\u001b[1;36m  Cell \u001b[1;32mIn[80], line 3\u001b[1;36m\u001b[0m\n\u001b[1;33m    return a = b and b =a\u001b[0m\n\u001b[1;37m             ^\u001b[0m\n\u001b[1;31mSyntaxError\u001b[0m\u001b[1;31m:\u001b[0m invalid syntax\n"
     ]
    }
   ],
   "source": [
    "#10.Swap Two Numbers Without Using a Temporary Variable: Write a function to swap two numbers.\n",
    "def swap(a,b):\n",
    "    return \n",
    "\n",
    "num1=int(input(\"enter the number1 :\"))\n",
    "num2=int(input(\"enter the number1 :\"))\n",
    "print(\"after swapping numbers are :\",swap(num1,num2))\n",
    "    \n",
    "    "
   ]
  },
  {
   "cell_type": "code",
   "execution_count": null,
   "id": "8eed3700-a69c-485f-a39a-e7a1c579fbc8",
   "metadata": {},
   "outputs": [],
   "source": []
  }
 ],
 "metadata": {
  "kernelspec": {
   "display_name": "Python 3 (ipykernel)",
   "language": "python",
   "name": "python3"
  },
  "language_info": {
   "codemirror_mode": {
    "name": "ipython",
    "version": 3
   },
   "file_extension": ".py",
   "mimetype": "text/x-python",
   "name": "python",
   "nbconvert_exporter": "python",
   "pygments_lexer": "ipython3",
   "version": "3.13.0"
  }
 },
 "nbformat": 4,
 "nbformat_minor": 5
}
